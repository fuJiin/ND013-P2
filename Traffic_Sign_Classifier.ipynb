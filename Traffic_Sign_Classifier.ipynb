{
 "cells": [
  {
   "cell_type": "markdown",
   "metadata": {},
   "source": [
    "# Self-Driving Car Engineer Nanodegree\n",
    "\n",
    "## Deep Learning\n",
    "\n",
    "## Project: Build a Traffic Sign Recognition Classifier\n",
    "\n",
    "In this notebook, a template is provided for you to implement your functionality in stages which is required to successfully complete this project. If additional code is required that cannot be included in the notebook, be sure that the Python code is successfully imported and included in your submission, if necessary. Sections that begin with **'Implementation'** in the header indicate where you should begin your implementation for your project. Note that some sections of implementation are optional, and will be marked with **'Optional'** in the header.\n",
    "\n",
    "In addition to implementing code, there will be questions that you must answer which relate to the project and your implementation. Each section where you will answer a question is preceded by a **'Question'** header. Carefully read each question and provide thorough answers in the following text boxes that begin with **'Answer:'**. Your project submission will be evaluated based on your answers to each of the questions and the implementation you provide.\n",
    "\n",
    ">**Note:** Code and Markdown cells can be executed using the **Shift + Enter** keyboard shortcut. In addition, Markdown cells can be edited by typically double-clicking the cell to enter edit mode."
   ]
  },
  {
   "cell_type": "markdown",
   "metadata": {},
   "source": [
    "---\n",
    "## Step 0: Load The Data"
   ]
  },
  {
   "cell_type": "code",
   "execution_count": 1,
   "metadata": {
    "collapsed": true
   },
   "outputs": [],
   "source": [
    "# Load pickled data\n",
    "import pickle\n",
    "\n",
    "# TODO: Fill this in based on where you saved the training and testing data\n",
    "\n",
    "training_file = 'data/traffic-signs-data/train.p'\n",
    "testing_file = 'data/traffic-signs-data/test.p'\n",
    "\n",
    "with open(training_file, mode='rb') as f:\n",
    "    train = pickle.load(f)\n",
    "with open(testing_file, mode='rb') as f:\n",
    "    test = pickle.load(f)\n",
    "    \n",
    "X_train, y_train = train['features'], train['labels']\n",
    "X_test, y_test = test['features'], test['labels']"
   ]
  },
  {
   "cell_type": "markdown",
   "metadata": {},
   "source": [
    "---\n",
    "\n",
    "## Step 1: Dataset Summary & Exploration\n",
    "\n",
    "The pickled data is a dictionary with 4 key/value pairs:\n",
    "\n",
    "- `'features'` is a 4D array containing raw pixel data of the traffic sign images, (num examples, width, height, channels).\n",
    "- `'labels'` is a 1D array containing the label/class id of the traffic sign. The file `signnames.csv` contains id -> name mappings for each id.\n",
    "- `'sizes'` is a list containing tuples, (width, height) representing the the original width and height the image.\n",
    "- `'coords'` is a list containing tuples, (x1, y1, x2, y2) representing coordinates of a bounding box around the sign in the image. **THESE COORDINATES ASSUME THE ORIGINAL IMAGE. THE PICKLED DATA CONTAINS RESIZED VERSIONS (32 by 32) OF THESE IMAGES**\n",
    "\n",
    "Complete the basic data summary below."
   ]
  },
  {
   "cell_type": "code",
   "execution_count": 2,
   "metadata": {
    "collapsed": false
   },
   "outputs": [
    {
     "name": "stdout",
     "output_type": "stream",
     "text": [
      "Number of training examples = 39209\n",
      "Number of testing examples = 12630\n",
      "Image data shape = (32, 32, 3)\n",
      "Number of classes = 43\n"
     ]
    }
   ],
   "source": [
    "### Replace each question mark with the appropriate value.\n",
    "import numpy as np\n",
    "\n",
    "# TODO: Number of training examples\n",
    "n_train = len(X_train)\n",
    "\n",
    "# TODO: Number of testing examples.\n",
    "n_test = len(X_test)\n",
    "\n",
    "# TODO: What's the shape of an traffic sign image?\n",
    "image_shape = X_train[0].shape\n",
    "\n",
    "# TODO: How many unique classes/labels there are in the dataset.\n",
    "n_classes = len(np.unique(y_test))\n",
    "\n",
    "print(\"Number of training examples =\", n_train)\n",
    "print(\"Number of testing examples =\", n_test)\n",
    "print(\"Image data shape =\", image_shape)\n",
    "print(\"Number of classes =\", n_classes)"
   ]
  },
  {
   "cell_type": "markdown",
   "metadata": {},
   "source": [
    "Visualize the German Traffic Signs Dataset using the pickled file(s). This is open ended, suggestions include: plotting traffic sign images, plotting the count of each sign, etc.\n",
    "\n",
    "The [Matplotlib](http://matplotlib.org/) [examples](http://matplotlib.org/examples/index.html) and [gallery](http://matplotlib.org/gallery.html) pages are a great resource for doing visualizations in Python.\n",
    "\n",
    "**NOTE:** It's recommended you start with something simple first. If you wish to do more, come back to it after you've completed the rest of the sections."
   ]
  },
  {
   "cell_type": "code",
   "execution_count": 3,
   "metadata": {
    "collapsed": false
   },
   "outputs": [
    {
     "name": "stdout",
     "output_type": "stream",
     "text": [
      "38\n"
     ]
    },
    {
     "data": {
      "image/png": "[encoded data removed]",
      "text/plain": [
       "<matplotlib.figure.Figure at 0x7fb688275b38>"
      ]
     },
     "metadata": {},
     "output_type": "display_data"
    }
   ],
   "source": [
    "### Data exploration visualization goes here.\n",
    "### Feel free to use as many code cells as needed.\n",
    "import random\n",
    "import matplotlib.pyplot as plt\n",
    "# Visualizations will be shown in the notebook.\n",
    "%matplotlib inline\n",
    "\n",
    "index = random.randint(0, len(X_train))\n",
    "image = X_train[index].squeeze()\n",
    "\n",
    "plt.figure(figsize=(1,1))\n",
    "plt.imshow(image, cmap=\"gray\")\n",
    "print(y_train[index])"
   ]
  },
  {
   "cell_type": "markdown",
   "metadata": {},
   "source": [
    "----\n",
    "\n",
    "## Step 2: Design and Test a Model Architecture\n",
    "\n",
    "Design and implement a deep learning model that learns to recognize traffic signs. Train and test your model on the [German Traffic Sign Dataset](http://benchmark.ini.rub.de/?section=gtsrb&subsection=dataset).\n",
    "\n",
    "There are various aspects to consider when thinking about this problem:\n",
    "\n",
    "- Neural network architecture\n",
    "- Play around preprocessing techniques (normalization, rgb to grayscale, etc)\n",
    "- Number of examples per label (some have more than others).\n",
    "- Generate fake data.\n",
    "\n",
    "Here is an example of a [published baseline model on this problem](http://yann.lecun.com/exdb/publis/pdf/sermanet-ijcnn-11.pdf). It's not required to be familiar with the approach used in the paper but, it's good practice to try to read papers like these.\n",
    "\n",
    "**NOTE:** The LeNet-5 implementation shown in the [classroom](https://classroom.udacity.com/nanodegrees/nd013/parts/fbf77062-5703-404e-b60c-95b78b2f3f9e/modules/6df7ae49-c61c-4bb2-a23e-6527e69209ec/lessons/601ae704-1035-4287-8b11-e2c2716217ad/concepts/d4aca031-508f-4e0b-b493-e7b706120f81) at the end of the CNN lesson is a solid starting point. You'll have to change the number of classes and possibly the preprocessing, but aside from that it's plug and play!"
   ]
  },
  {
   "cell_type": "markdown",
   "metadata": {},
   "source": [
    "### Implementation\n",
    "\n",
    "Use the code cell (or multiple code cells, if necessary) to implement the first step of your project. Once you have completed your implementation and are satisfied with the results, be sure to thoroughly answer the questions that follow."
   ]
  },
  {
   "cell_type": "code",
   "execution_count": 4,
   "metadata": {
    "collapsed": true
   },
   "outputs": [],
   "source": [
    "### Preprocess the data here.\n",
    "### Feel free to use as many code cells as needed.\n",
    "\n",
    "from sklearn.utils import shuffle\n",
    "\n",
    "# Shuffle training data\n",
    "X_train, y_train = shuffle(X_train, y_train)"
   ]
  },
  {
   "cell_type": "code",
   "execution_count": 5,
   "metadata": {
    "collapsed": false
   },
   "outputs": [],
   "source": [
    "# Normalize data\n",
    "is_normalized = False\n",
    "\n",
    "def normalize(image_data):\n",
    "    \"\"\"\n",
    "    Normalize the image data with Min-Max scaling to a range of [0.1, 0.9]\n",
    "    :param image_data: The image data to be normalized\n",
    "    :return: Normalized image data\n",
    "    \"\"\"\n",
    "    a = 0.1\n",
    "    b = 0.9\n",
    "    grayscale_min = 0\n",
    "    grayscale_max = 255\n",
    "    return a + ( ( (image_data - grayscale_min)*(b - a) )/( grayscale_max - grayscale_min ) )\n",
    "\n",
    "if not is_normalized:\n",
    "    X_train = normalize(X_train)\n",
    "    X_test = normalize(X_test)\n",
    "    is_normalized = True"
   ]
  },
  {
   "cell_type": "markdown",
   "metadata": {},
   "source": [
    "### Question 1 \n",
    "\n",
    "_Describe how you preprocessed the data. Why did you choose that technique?_"
   ]
  },
  {
   "cell_type": "markdown",
   "metadata": {},
   "source": [
    "**Answer:**"
   ]
  },
  {
   "cell_type": "markdown",
   "metadata": {},
   "source": [
    "I did two things to preprocess the data.\n",
    "\n",
    "1. The first is to **shuffle the data**. This is done to help the neural net generalize.\n",
    "\n",
    "2. The second is to **normalize the data**. This helps condition the data and makes it easier for the neural net to converge."
   ]
  },
  {
   "cell_type": "code",
   "execution_count": 6,
   "metadata": {
    "collapsed": true
   },
   "outputs": [],
   "source": [
    "### Generate additional data (OPTIONAL!)\n",
    "### and split the data into training/validation/testing sets here.\n",
    "### Feel free to use as many code cells as needed."
   ]
  },
  {
   "cell_type": "code",
   "execution_count": 7,
   "metadata": {
    "collapsed": true
   },
   "outputs": [],
   "source": [
    "from sklearn.model_selection import train_test_split\n",
    "\n",
    "# Split training\n",
    "X_train, X_validation, y_train, y_validation = train_test_split(X_train, y_train, test_size=0.20)"
   ]
  },
  {
   "cell_type": "markdown",
   "metadata": {},
   "source": [
    "### Question 2\n",
    "\n",
    "_Describe how you set up the training, validation and testing data for your model. **Optional**: If you generated additional data, how did you generate the data? Why did you generate the data? What are the differences in the new dataset (with generated data) from the original dataset?_"
   ]
  },
  {
   "cell_type": "markdown",
   "metadata": {},
   "source": [
    "**Answer:**"
   ]
  },
  {
   "cell_type": "markdown",
   "metadata": {},
   "source": [
    "I used the built-in `sklearn` function `train_test_split` to split 20% of the training data into validation data.\n",
    "\n",
    "Did not generate additional data."
   ]
  },
  {
   "cell_type": "code",
   "execution_count": 8,
   "metadata": {
    "collapsed": true
   },
   "outputs": [],
   "source": [
    "### Define your architecture here.\n",
    "### Feel free to use as many code cells as needed.\n",
    "\n",
    "from tensorflow.contrib.layers import flatten\n",
    "\n",
    "def ChoiNet(x, x_depth, y_classes, keep_prob=1.0):     \n",
    "    # Arguments used for tf.truncated_normal, randomly defines variables for the weights and biases for each layer\n",
    "    mu = 0\n",
    "    sigma = 0.1\n",
    "    \n",
    "    # SOLUTION: Layer 1: Convolutional. Input = 32x32x1. \n",
    "    # Output = (input_height - filter_height + 1) / vertical_stride\n",
    "    # = (32 - 5 + 1) / 1\n",
    "    # = 28x28x6.        \n",
    "    conv1_W = tf.Variable(tf.truncated_normal(shape=(5, 5, x_depth, 6), mean = mu, stddev = sigma))\n",
    "    conv1_b = tf.Variable(tf.zeros(6))\n",
    "    conv1   = tf.nn.conv2d(x, conv1_W, strides=[1, 1, 1, 1], padding='VALID') + conv1_b\n",
    "\n",
    "    # SOLUTION: Activation.\n",
    "    conv1 = tf.nn.relu(conv1)\n",
    "\n",
    "    # SOLUTION: Pooling. Input = 28x28x6. \n",
    "    # (28 - 1 + 1) / 2\n",
    "    # Output = 14x14x6.\n",
    "    conv1 = tf.nn.max_pool(conv1, ksize=[1, 2, 2, 1], strides=[1, 2, 2, 1], padding='VALID')\n",
    "\n",
    "    # SOLUTION: Layer 2: Convolutional. Output = 10x10x16.\n",
    "    conv2_W = tf.Variable(tf.truncated_normal(shape=(5, 5, 6, 16), mean = mu, stddev = sigma))\n",
    "    conv2_b = tf.Variable(tf.zeros(16))\n",
    "    conv2   = tf.nn.conv2d(conv1, conv2_W, strides=[1, 1, 1, 1], padding='VALID') + conv2_b\n",
    "    \n",
    "    # SOLUTION: Activation.\n",
    "    conv2 = tf.nn.relu(conv2)\n",
    "\n",
    "    # SOLUTION: Pooling. Input = 10x10x16. Output = 5x5x16.\n",
    "    conv2 = tf.nn.max_pool(conv2, ksize=[1, 2, 2, 1], strides=[1, 2, 2, 1], padding='VALID')\n",
    "\n",
    "    # SOLUTION: Flatten. Input = 5x5x16. Output = 400.\n",
    "    fc0   = flatten(conv2)\n",
    "    \n",
    "    # SOLUTION: Layer 3: Fully Connected. Input = 400. Output = 120.\n",
    "    fc1_W = tf.Variable(tf.truncated_normal(shape=(400, 120), mean = mu, stddev = sigma))\n",
    "    fc1_b = tf.Variable(tf.zeros(120))\n",
    "    fc1   = tf.matmul(fc0, fc1_W) + fc1_b\n",
    "    \n",
    "    # SOLUTION: Activation.\n",
    "    fc1    = tf.nn.relu(fc1)\n",
    "\n",
    "    # SOLUTION: Layer 4: Fully Connected. Input = 120. Output = 84.\n",
    "    fc2_W  = tf.Variable(tf.truncated_normal(shape=(120, 84), mean = mu, stddev = sigma))\n",
    "    fc2_b  = tf.Variable(tf.zeros(84))\n",
    "    fc2    = tf.matmul(fc1, fc2_W) + fc2_b\n",
    "    \n",
    "    # SOLUTION: Activation.\n",
    "    fc2    = tf.nn.relu(fc2)\n",
    "\n",
    "    # SOLUTION: Layer 5: Fully Connected. Input = 84. Output = 10.\n",
    "    fc3_W  = tf.Variable(tf.truncated_normal(shape=(84, y_classes), mean = mu, stddev = sigma))\n",
    "    fc3_b  = tf.Variable(tf.zeros(y_classes))\n",
    "    logits = tf.matmul(fc2, fc3_W) + fc3_b\n",
    "    \n",
    "    logits_drop = tf.nn.dropout(logits, keep_prob)\n",
    "    \n",
    "    model = {\n",
    "        'weights': [conv1_W, conv2_W, fc1_W, fc2_W, fc3_W],\n",
    "        'biases': [conv1_b, conv2_b, fc1_b, fc2_b, fc3_b],\n",
    "        'logits': logits_drop\n",
    "    }    \n",
    "    return model"
   ]
  },
  {
   "cell_type": "markdown",
   "metadata": {},
   "source": [
    "### Question 3\n",
    "\n",
    "_What does your final architecture look like? (Type of model, layers, sizes, connectivity, etc.)  For reference on how to build a deep neural network using TensorFlow, see [Deep Neural Network in TensorFlow\n",
    "](https://classroom.udacity.com/nanodegrees/nd013/parts/fbf77062-5703-404e-b60c-95b78b2f3f9e/modules/6df7ae49-c61c-4bb2-a23e-6527e69209ec/lessons/b516a270-8600-4f93-a0a3-20dfeabe5da6/concepts/83a3a2a2-a9bd-4b7b-95b0-eb924ab14432) from the classroom._\n"
   ]
  },
  {
   "cell_type": "markdown",
   "metadata": {},
   "source": [
    "**Answer:**"
   ]
  },
  {
   "cell_type": "markdown",
   "metadata": {},
   "source": [
    "The model is essentially a LeNet model, with support for dropout.\n",
    "\n",
    "There are two convolution layers, each followed with ReLu activation and pooling layers. The first layer takes in input shapes of 32x32x1, and the second takes in inputs of shape 10x10x16.\n",
    "\n",
    "The output of the second convolution layer is then flattened into a 400 features and fed into two fully connected layers, each followed by ReLu activation. The first layer takes in input of shape 400x1, and the second takes in input of 84x1. \n",
    "\n",
    "The results of the last fully connected layer is then fed through a dropout layer, with `keep_prob` as a configurable variable. The final output of the neural net is a `dict` with `weights`, `biases`, and `logits` as keys, where `weights` and `biases` are weights and biases in ordered by its position from the input to output layer, and `logits` is the final output of the dropout layer."
   ]
  },
  {
   "cell_type": "code",
   "execution_count": 9,
   "metadata": {
    "collapsed": false
   },
   "outputs": [],
   "source": [
    "### Train your model here.\n",
    "### Feel free to use as many code cells as needed.\n",
    "\n",
    "import tensorflow as tf\n",
    "\n",
    "# Variables\n",
    "x = tf.placeholder(tf.float32, (None, 32, 32, image_shape[2]))\n",
    "y = tf.placeholder(tf.int32, (None))\n",
    "keep_prob = tf.placeholder(tf.float32)\n",
    "one_hot_y = tf.one_hot(y, n_classes)"
   ]
  },
  {
   "cell_type": "code",
   "execution_count": 10,
   "metadata": {
    "collapsed": true
   },
   "outputs": [],
   "source": [
    "# Hyperparams\n",
    "\n",
    "EPOCHS = 100\n",
    "BATCH_SIZE = 128\n",
    "\n",
    "learn_rate = 0.001\n",
    "reg_beta = 5e-04"
   ]
  },
  {
   "cell_type": "code",
   "execution_count": 11,
   "metadata": {
    "collapsed": false
   },
   "outputs": [],
   "source": [
    "# Build model\n",
    "model = ChoiNet(x, x_depth=image_shape[2], y_classes=n_classes, keep_prob=keep_prob)\n",
    "logits = model['logits']\n",
    "\n",
    "cross_entropy = tf.nn.softmax_cross_entropy_with_logits(logits, one_hot_y)\n",
    "loss_operation = tf.reduce_mean(cross_entropy)\n",
    "\n",
    "# Regularization\n",
    "regs = tf.reduce_sum([tf.nn.l2_loss(w) for w in model['weights']])\n",
    "loss_operation += (reg_beta * regs)\n",
    "\n",
    "# Optimize\n",
    "optimizer = tf.train.AdamOptimizer(learning_rate=learn_rate)\n",
    "training_operation = optimizer.minimize(loss_operation)"
   ]
  },
  {
   "cell_type": "code",
   "execution_count": 12,
   "metadata": {
    "collapsed": false
   },
   "outputs": [],
   "source": [
    "# Evaluation\n",
    "\n",
    "correct_prediction = tf.equal(tf.argmax(logits, 1), tf.argmax(one_hot_y, 1))\n",
    "accuracy_operation = tf.reduce_mean(tf.cast(correct_prediction, tf.float32))\n",
    "\n",
    "def evaluate(X_data, y_data):\n",
    "    num_examples = len(X_data)\n",
    "    total_accuracy = 0\n",
    "    sess = tf.get_default_session()\n",
    "    for offset in range(0, num_examples, BATCH_SIZE):\n",
    "        batch_x, batch_y = X_data[offset:offset+BATCH_SIZE], y_data[offset:offset+BATCH_SIZE]\n",
    "        accuracy = sess.run(accuracy_operation, feed_dict={x: batch_x, y: batch_y, keep_prob: 1.0})\n",
    "        total_accuracy += (accuracy * len(batch_x))\n",
    "    return total_accuracy / num_examples"
   ]
  },
  {
   "cell_type": "code",
   "execution_count": 13,
   "metadata": {
    "collapsed": false
   },
   "outputs": [
    {
     "name": "stdout",
     "output_type": "stream",
     "text": [
      "Training...\n",
      "\n",
      "EPOCH 1 ...\n",
      "Validation Accuracy = 0.580\n",
      "\n",
      "EPOCH 2 ...\n",
      "Validation Accuracy = 0.789\n",
      "\n",
      "EPOCH 3 ...\n",
      "Validation Accuracy = 0.880\n",
      "\n",
      "EPOCH 4 ...\n",
      "Validation Accuracy = 0.910\n",
      "\n",
      "EPOCH 5 ...\n",
      "Validation Accuracy = 0.929\n",
      "\n",
      "EPOCH 6 ...\n",
      "Validation Accuracy = 0.945\n",
      "\n",
      "EPOCH 7 ...\n",
      "Validation Accuracy = 0.947\n",
      "\n",
      "EPOCH 8 ...\n",
      "Validation Accuracy = 0.962\n",
      "\n",
      "EPOCH 9 ...\n",
      "Validation Accuracy = 0.963\n",
      "\n",
      "EPOCH 10 ...\n",
      "Validation Accuracy = 0.934\n",
      "\n",
      "EPOCH 11 ...\n",
      "Validation Accuracy = 0.954\n",
      "\n",
      "EPOCH 12 ...\n",
      "Validation Accuracy = 0.969\n",
      "\n",
      "EPOCH 13 ...\n",
      "Validation Accuracy = 0.975\n",
      "\n",
      "EPOCH 14 ...\n",
      "Validation Accuracy = 0.977\n",
      "\n",
      "EPOCH 15 ...\n",
      "Validation Accuracy = 0.978\n",
      "\n",
      "EPOCH 16 ...\n",
      "Validation Accuracy = 0.976\n",
      "\n",
      "EPOCH 17 ...\n",
      "Validation Accuracy = 0.978\n",
      "\n",
      "EPOCH 18 ...\n",
      "Validation Accuracy = 0.979\n",
      "\n",
      "EPOCH 19 ...\n",
      "Validation Accuracy = 0.979\n",
      "\n",
      "EPOCH 20 ...\n",
      "Validation Accuracy = 0.980\n",
      "\n",
      "EPOCH 21 ...\n",
      "Validation Accuracy = 0.980\n",
      "\n",
      "EPOCH 22 ...\n",
      "Validation Accuracy = 0.977\n",
      "\n",
      "EPOCH 23 ...\n",
      "Validation Accuracy = 0.982\n",
      "\n",
      "EPOCH 24 ...\n",
      "Validation Accuracy = 0.982\n",
      "\n",
      "EPOCH 25 ...\n",
      "Validation Accuracy = 0.982\n",
      "\n",
      "EPOCH 26 ...\n",
      "Validation Accuracy = 0.980\n",
      "\n",
      "EPOCH 27 ...\n",
      "Validation Accuracy = 0.983\n",
      "\n",
      "EPOCH 28 ...\n",
      "Validation Accuracy = 0.984\n",
      "\n",
      "EPOCH 29 ...\n",
      "Validation Accuracy = 0.969\n",
      "\n",
      "EPOCH 30 ...\n",
      "Validation Accuracy = 0.985\n",
      "\n",
      "EPOCH 31 ...\n",
      "Validation Accuracy = 0.984\n",
      "\n",
      "EPOCH 32 ...\n",
      "Validation Accuracy = 0.985\n",
      "\n",
      "EPOCH 33 ...\n",
      "Validation Accuracy = 0.983\n",
      "\n",
      "EPOCH 34 ...\n",
      "Validation Accuracy = 0.985\n",
      "\n",
      "EPOCH 35 ...\n",
      "Validation Accuracy = 0.983\n",
      "\n",
      "EPOCH 36 ...\n",
      "Validation Accuracy = 0.979\n",
      "\n",
      "EPOCH 37 ...\n",
      "Validation Accuracy = 0.982\n",
      "\n",
      "EPOCH 38 ...\n",
      "Validation Accuracy = 0.988\n",
      "\n",
      "EPOCH 39 ...\n",
      "Validation Accuracy = 0.984\n",
      "\n",
      "EPOCH 40 ...\n",
      "Validation Accuracy = 0.986\n",
      "\n",
      "EPOCH 41 ...\n",
      "Validation Accuracy = 0.978\n",
      "\n",
      "EPOCH 42 ...\n",
      "Validation Accuracy = 0.990\n",
      "\n",
      "EPOCH 43 ...\n",
      "Validation Accuracy = 0.989\n",
      "\n",
      "EPOCH 44 ...\n",
      "Validation Accuracy = 0.985\n",
      "\n",
      "EPOCH 45 ...\n",
      "Validation Accuracy = 0.988\n",
      "\n",
      "EPOCH 46 ...\n",
      "Validation Accuracy = 0.985\n",
      "\n",
      "EPOCH 47 ...\n",
      "Validation Accuracy = 0.985\n",
      "\n",
      "EPOCH 48 ...\n",
      "Validation Accuracy = 0.985\n",
      "\n",
      "EPOCH 49 ...\n",
      "Validation Accuracy = 0.987\n",
      "\n",
      "EPOCH 50 ...\n",
      "Validation Accuracy = 0.989\n",
      "\n",
      "EPOCH 51 ...\n",
      "Validation Accuracy = 0.989\n",
      "\n",
      "EPOCH 52 ...\n",
      "Validation Accuracy = 0.983\n",
      "\n",
      "EPOCH 53 ...\n",
      "Validation Accuracy = 0.986\n",
      "\n",
      "EPOCH 54 ...\n",
      "Validation Accuracy = 0.989\n",
      "\n",
      "EPOCH 55 ...\n",
      "Validation Accuracy = 0.982\n",
      "\n",
      "EPOCH 56 ...\n",
      "Validation Accuracy = 0.986\n",
      "\n",
      "EPOCH 57 ...\n",
      "Validation Accuracy = 0.989\n",
      "\n",
      "EPOCH 58 ...\n",
      "Validation Accuracy = 0.990\n",
      "\n",
      "EPOCH 59 ...\n",
      "Validation Accuracy = 0.983\n",
      "\n",
      "EPOCH 60 ...\n",
      "Validation Accuracy = 0.989\n",
      "\n",
      "EPOCH 61 ...\n",
      "Validation Accuracy = 0.987\n",
      "\n",
      "EPOCH 62 ...\n",
      "Validation Accuracy = 0.989\n",
      "\n",
      "EPOCH 63 ...\n",
      "Validation Accuracy = 0.986\n",
      "\n",
      "EPOCH 64 ...\n",
      "Validation Accuracy = 0.982\n",
      "\n",
      "EPOCH 65 ...\n",
      "Validation Accuracy = 0.990\n",
      "\n",
      "EPOCH 66 ...\n",
      "Validation Accuracy = 0.988\n",
      "\n",
      "EPOCH 67 ...\n",
      "Validation Accuracy = 0.989\n",
      "\n",
      "EPOCH 68 ...\n",
      "Validation Accuracy = 0.992\n",
      "\n",
      "EPOCH 69 ...\n",
      "Validation Accuracy = 0.988\n",
      "\n",
      "EPOCH 70 ...\n",
      "Validation Accuracy = 0.988\n",
      "\n",
      "EPOCH 71 ...\n",
      "Validation Accuracy = 0.991\n",
      "\n",
      "EPOCH 72 ...\n",
      "Validation Accuracy = 0.978\n",
      "\n",
      "EPOCH 73 ...\n",
      "Validation Accuracy = 0.982\n",
      "\n",
      "EPOCH 74 ...\n",
      "Validation Accuracy = 0.989\n",
      "\n",
      "EPOCH 75 ...\n",
      "Validation Accuracy = 0.987\n",
      "\n",
      "EPOCH 76 ...\n",
      "Validation Accuracy = 0.989\n",
      "\n",
      "EPOCH 77 ...\n",
      "Validation Accuracy = 0.990\n",
      "\n",
      "EPOCH 78 ...\n",
      "Validation Accuracy = 0.988\n",
      "\n",
      "EPOCH 79 ...\n",
      "Validation Accuracy = 0.991\n",
      "\n",
      "EPOCH 80 ...\n",
      "Validation Accuracy = 0.988\n",
      "\n",
      "EPOCH 81 ...\n",
      "Validation Accuracy = 0.989\n",
      "\n",
      "EPOCH 82 ...\n",
      "Validation Accuracy = 0.989\n",
      "\n",
      "EPOCH 83 ...\n",
      "Validation Accuracy = 0.988\n",
      "\n",
      "EPOCH 84 ...\n",
      "Validation Accuracy = 0.989\n",
      "\n",
      "EPOCH 85 ...\n",
      "Validation Accuracy = 0.990\n",
      "\n",
      "EPOCH 86 ...\n",
      "Validation Accuracy = 0.986\n",
      "\n",
      "EPOCH 87 ...\n",
      "Validation Accuracy = 0.991\n",
      "\n",
      "EPOCH 88 ...\n",
      "Validation Accuracy = 0.989\n",
      "\n",
      "EPOCH 89 ...\n",
      "Validation Accuracy = 0.987\n",
      "\n",
      "EPOCH 90 ...\n",
      "Validation Accuracy = 0.990\n",
      "\n",
      "EPOCH 91 ...\n",
      "Validation Accuracy = 0.987\n",
      "\n",
      "EPOCH 92 ...\n",
      "Validation Accuracy = 0.991\n",
      "\n",
      "EPOCH 93 ...\n",
      "Validation Accuracy = 0.990\n",
      "\n",
      "EPOCH 94 ...\n",
      "Validation Accuracy = 0.984\n",
      "\n",
      "EPOCH 95 ...\n",
      "Validation Accuracy = 0.990\n",
      "\n",
      "EPOCH 96 ...\n",
      "Validation Accuracy = 0.987\n",
      "\n",
      "EPOCH 97 ...\n",
      "Validation Accuracy = 0.989\n",
      "\n",
      "EPOCH 98 ...\n",
      "Validation Accuracy = 0.990\n",
      "\n",
      "EPOCH 99 ...\n",
      "Validation Accuracy = 0.987\n",
      "\n",
      "EPOCH 100 ...\n",
      "Validation Accuracy = 0.988\n",
      "\n",
      "Model saved\n"
     ]
    }
   ],
   "source": [
    "# Training\n",
    "\n",
    "saver = tf.train.Saver()\n",
    "\n",
    "with tf.Session() as sess:\n",
    "    sess.run(tf.global_variables_initializer())\n",
    "    num_examples = len(X_train)\n",
    "    \n",
    "    print(\"Training...\")\n",
    "    print()\n",
    "    for i in range(EPOCHS):\n",
    "        X_train, y_train = shuffle(X_train, y_train)\n",
    "        for offset in range(0, num_examples, BATCH_SIZE):\n",
    "            end = offset + BATCH_SIZE\n",
    "            batch_x, batch_y = X_train[offset:end], y_train[offset:end]\n",
    "            sess.run(training_operation, feed_dict={x: batch_x, y: batch_y, keep_prob: 0.5})\n",
    "            \n",
    "        validation_accuracy = evaluate(X_validation, y_validation)\n",
    "        print(\"EPOCH {} ...\".format(i+1))\n",
    "        print(\"Validation Accuracy = {:.3f}\".format(validation_accuracy))\n",
    "        print()\n",
    "        \n",
    "    saver.save(sess, './lenet')\n",
    "    print(\"Model saved\")"
   ]
  },
  {
   "cell_type": "code",
   "execution_count": 14,
   "metadata": {
    "collapsed": false
   },
   "outputs": [
    {
     "name": "stdout",
     "output_type": "stream",
     "text": [
      "Test Accuracy = 0.935\n"
     ]
    }
   ],
   "source": [
    "# Test model\n",
    "\n",
    "with tf.Session() as sess:\n",
    "    saver.restore(sess, tf.train.latest_checkpoint('.'))\n",
    "\n",
    "    test_accuracy = evaluate(X_test, y_test)\n",
    "    print(\"Test Accuracy = {:.3f}\".format(test_accuracy))"
   ]
  },
  {
   "cell_type": "markdown",
   "metadata": {},
   "source": [
    "### Question 4\n",
    "\n",
    "_How did you train your model? (Type of optimizer, batch size, epochs, hyperparameters, etc.)_\n"
   ]
  },
  {
   "cell_type": "markdown",
   "metadata": {},
   "source": [
    "**Answer:**"
   ]
  },
  {
   "cell_type": "markdown",
   "metadata": {},
   "source": [
    "**Hyperparameters**\n",
    "\n",
    "I trained the model with a batch size of 128, epoch of 100, and a learn rate of 0.001. \n",
    "\n",
    "I tried a couple variations, but those hyperparams seem to work the best. For example, increasing the learn rate even to 0.002 seem to dramatically decrease both validation and test accuracy. Epochs lower than 100 gave test accuracy closer to 93%, while increasing seem to give diminishing returns, plateauing at ~93-94% accuracy.\n",
    "\n",
    "**Regularization**\n",
    "\n",
    "I used a 50% dropout and a L2 regularization, with the standard reg beta of 5e-4. I also tried increasing and decreasing both of these parameters. Decreasing dropout and the reg beta led to worse test results, likely due to overfitting. Increasing dropout seemed to slow training rate, and required higher epochs. "
   ]
  },
  {
   "cell_type": "markdown",
   "metadata": {},
   "source": [
    "### Question 5\n",
    "\n",
    "\n",
    "_What approach did you take in coming up with a solution to this problem? It may have been a process of trial and error, in which case, outline the steps you took to get to the final solution and why you chose those steps. Perhaps your solution involved an already well known implementation or architecture. In this case, discuss why you think this is suitable for the current problem._"
   ]
  },
  {
   "cell_type": "markdown",
   "metadata": {},
   "source": [
    "**Answer:**"
   ]
  },
  {
   "cell_type": "markdown",
   "metadata": {},
   "source": [
    "I started with a basic LeNet architecture to get a baseline (90% with 10 epochs), then iteratively added more improvements. \n",
    "\n",
    "The first thing I tried was to normalize the data, which improved the model to ~92%. I then started adding dropout and L2 regularization with the standard parameters (50%, 5e-4 respectively). The result at that point was ~93%. \n",
    "\n",
    "The final step was to tweak the hyperparameters. I started with learning rate, but quickly discovered that 0.001 was pretty optimal in this case. Decreasing led to much longer training times, and increasing led to much lower accuracy. With epochs I basically kept increasing until there seemed to be diminishing returns."
   ]
  },
  {
   "cell_type": "markdown",
   "metadata": {},
   "source": [
    "---\n",
    "\n",
    "## Step 3: Test a Model on New Images\n",
    "\n",
    "Take several pictures of traffic signs that you find on the web or around you (at least five), and run them through your classifier on your computer to produce example results. The classifier might not recognize some local signs but it could prove interesting nonetheless.\n",
    "\n",
    "You may find `signnames.csv` useful as it contains mappings from the class id (integer) to the actual sign name."
   ]
  },
  {
   "cell_type": "markdown",
   "metadata": {},
   "source": [
    "### Implementation\n",
    "\n",
    "Use the code cell (or multiple code cells, if necessary) to implement the first step of your project. Once you have completed your implementation and are satisfied with the results, be sure to thoroughly answer the questions that follow."
   ]
  },
  {
   "cell_type": "code",
   "execution_count": 15,
   "metadata": {
    "collapsed": false
   },
   "outputs": [
    {
     "data": {
      "image/png": "[encoded data removed]",
      "text/plain": [
       "<matplotlib.figure.Figure at 0x7fb641fc5f60>"
      ]
     },
     "metadata": {},
     "output_type": "display_data"
    },
    {
     "data": {
      "image/png": "[encoded data removed]",
      "text/plain": [
       "<matplotlib.figure.Figure at 0x7fb602b865c0>"
      ]
     },
     "metadata": {},
     "output_type": "display_data"
    },
    {
     "data": {
      "image/png": "[encoded data removed]",
      "text/plain": [
       "<matplotlib.figure.Figure at 0x7fb5f006e6d8>"
      ]
     },
     "metadata": {},
     "output_type": "display_data"
    },
    {
     "data": {
      "image/png": "[encoded data removed]",
      "text/plain": [
       "<matplotlib.figure.Figure at 0x7fb614fa0860>"
      ]
     },
     "metadata": {},
     "output_type": "display_data"
    },
    {
     "data": {
      "image/png": "[encoded data removed]",
      "text/plain": [
       "<matplotlib.figure.Figure at 0x7fb614ff6be0>"
      ]
     },
     "metadata": {},
     "output_type": "display_data"
    }
   ],
   "source": [
    "### Load the images and plot them here.\n",
    "### Feel free to use as many code cells as needed.\n",
    "\n",
    "import glob\n",
    "import matplotlib.image as mpimg\n",
    "\n",
    "image_paths = glob.glob('./street-photos/*.jpg')\n",
    "images = []\n",
    "\n",
    "for i, image_path in enumerate(image_paths):\n",
    "    image = mpimg.imread(image_path)\n",
    "    normalized = normalize(image)\n",
    "    images.append(normalized)\n",
    "\n",
    "    plt.figure(figsize=(1,1))\n",
    "    plt.imshow(image, cmap=\"gray\")"
   ]
  },
  {
   "cell_type": "markdown",
   "metadata": {},
   "source": [
    "### Question 6\n",
    "\n",
    "_Choose five candidate images of traffic signs and provide them in the report. Are there any particular qualities of the image(s) that might make classification difficult? It could be helpful to plot the images in the notebook._\n",
    "\n"
   ]
  },
  {
   "cell_type": "markdown",
   "metadata": {},
   "source": [
    "**Answer:**"
   ]
  },
  {
   "cell_type": "markdown",
   "metadata": {},
   "source": [
    "The 4th image may be difficult to classify because there are two sections and both the bicycle and pedestrian figures."
   ]
  },
  {
   "cell_type": "code",
   "execution_count": 16,
   "metadata": {
    "collapsed": true
   },
   "outputs": [],
   "source": [
    "### Run the predictions here.\n",
    "### Feel free to use as many code cells as needed.\n",
    "\n",
    "# Prediction function\n",
    "prediction = tf.argmax(logits, 1)"
   ]
  },
  {
   "cell_type": "code",
   "execution_count": 17,
   "metadata": {
    "collapsed": false
   },
   "outputs": [
    {
     "name": "stdout",
     "output_type": "stream",
     "text": [
      "{'41': 'End of no passing', '32': 'End of all speed and passing limits', '25': 'Road work', 'ClassId': 'SignName', '23': 'Slippery road', '24': 'Road narrows on the right', '33': 'Turn right ahead', '3': 'Speed limit (60km/h)', '40': 'Roundabout mandatory', '39': 'Keep left', '6': 'End of speed limit (80km/h)', '26': 'Traffic signals', '4': 'Speed limit (70km/h)', '12': 'Priority road', '28': 'Children crossing', '19': 'Dangerous curve to the left', '8': 'Speed limit (120km/h)', '21': 'Double curve', '37': 'Go straight or left', '42': 'End of no passing by vehicles over 3.5 metric tons', '29': 'Bicycles crossing', '10': 'No passing for vehicles over 3.5 metric tons', '30': 'Beware of ice/snow', '7': 'Speed limit (100km/h)', '14': 'Stop', '15': 'No vehicles', '16': 'Vehicles over 3.5 metric tons prohibited', '17': 'No entry', '2': 'Speed limit (50km/h)', '20': 'Dangerous curve to the right', '0': 'Speed limit (20km/h)', '13': 'Yield', '34': 'Turn left ahead', '11': 'Right-of-way at the next intersection', '9': 'No passing', '36': 'Go straight or right', '31': 'Wild animals crossing', '5': 'Speed limit (80km/h)', '22': 'Bumpy road', '38': 'Keep right', '35': 'Ahead only', '1': 'Speed limit (30km/h)', '27': 'Pedestrians', '18': 'General caution'}\n"
     ]
    }
   ],
   "source": [
    "import csv\n",
    "\n",
    "# Create mapping of sign indices\n",
    "sign_mapping = {}\n",
    "reader = csv.reader(open('./signnames.csv'), delimiter=',')\n",
    "\n",
    "for idx, sign in reader:\n",
    "    sign_mapping[idx] = sign\n",
    "    \n",
    "print(sign_mapping)"
   ]
  },
  {
   "cell_type": "code",
   "execution_count": 18,
   "metadata": {
    "collapsed": false
   },
   "outputs": [
    {
     "name": "stdout",
     "output_type": "stream",
     "text": [
      "Prediction for './street-photos/IMG_1023.jpg'...\n",
      "Stop\n",
      "Prediction for './street-photos/IMG_1021.jpg'...\n",
      "Speed limit (30km/h)\n",
      "Prediction for './street-photos/IMG_1025.jpg'...\n",
      "Right-of-way at the next intersection\n",
      "Prediction for './street-photos/IMG_1022.jpg'...\n",
      "General caution\n",
      "Prediction for './street-photos/IMG_1024.jpg'...\n",
      "End of all speed and passing limits\n"
     ]
    }
   ],
   "source": [
    "# Make predictions for each image\n",
    "\n",
    "with tf.Session() as sess:\n",
    "    saver.restore(sess, tf.train.latest_checkpoint('.'))    \n",
    "    \n",
    "    for i, image in enumerate(images):\n",
    "        print(\"Prediction for '{}'...\".format(image_paths[i]))\n",
    "        pred = sess.run(prediction, feed_dict={x: [image], keep_prob: 1.0})\n",
    "        key = str(pred[0])\n",
    "        print(sign_mapping[key])"
   ]
  },
  {
   "cell_type": "code",
   "execution_count": 19,
   "metadata": {
    "collapsed": false
   },
   "outputs": [
    {
     "data": {
      "image/png": "[encoded data removed]",
      "text/plain": [
       "<matplotlib.figure.Figure at 0x7fb614ffd4e0>"
      ]
     },
     "metadata": {},
     "output_type": "display_data"
    },
    {
     "data": {
      "image/png": "[encoded data removed]",
      "text/plain": [
       "<matplotlib.figure.Figure at 0x7fb5f02f1a58>"
      ]
     },
     "metadata": {},
     "output_type": "display_data"
    },
    {
     "data": {
      "image/png": "[encoded data removed]",
      "text/plain": [
       "<matplotlib.figure.Figure at 0x7fb6148682b0>"
      ]
     },
     "metadata": {},
     "output_type": "display_data"
    },
    {
     "data": {
      "image/png": "[encoded data removed]",
      "text/plain": [
       "<matplotlib.figure.Figure at 0x7fb61403a3c8>"
      ]
     },
     "metadata": {},
     "output_type": "display_data"
    },
    {
     "data": {
      "image/png": "[encoded data removed]",
      "text/plain": [
       "<matplotlib.figure.Figure at 0x7fb606fe4940>"
      ]
     },
     "metadata": {},
     "output_type": "display_data"
    }
   ],
   "source": [
    "for image in images:\n",
    "    plt.figure(figsize=(1,1))\n",
    "    plt.imshow(image, cmap=\"gray\")"
   ]
  },
  {
   "cell_type": "markdown",
   "metadata": {},
   "source": [
    "### Question 7\n",
    "\n",
    "_Is your model able to perform equally well on captured pictures when compared to testing on the dataset? The simplest way to do this check the accuracy of the predictions. For example, if the model predicted 1 out of 5 signs correctly, it's 20% accurate._\n",
    "\n",
    "_**NOTE:** You could check the accuracy manually by using `signnames.csv` (same directory). This file has a mapping from the class id (0-42) to the corresponding sign name. So, you could take the class id the model outputs, lookup the name in `signnames.csv` and see if it matches the sign from the image._\n"
   ]
  },
  {
   "cell_type": "markdown",
   "metadata": {},
   "source": [
    "**Answer:**"
   ]
  },
  {
   "cell_type": "code",
   "execution_count": 20,
   "metadata": {
    "collapsed": false
   },
   "outputs": [
    {
     "name": "stdout",
     "output_type": "stream",
     "text": [
      "Test Accuracy = 0.200\n"
     ]
    }
   ],
   "source": [
    "# Actually map to closest equivalent\n",
    "\n",
    "new_X = images\n",
    "new_y = [14, 27, 1, 13, 21]\n",
    "\n",
    "with tf.Session() as sess:\n",
    "    saver.restore(sess, tf.train.latest_checkpoint('.'))    \n",
    "    test_accuracy = evaluate(new_X, new_y)\n",
    "    print(\"Test Accuracy = {:.3f}\".format(test_accuracy))"
   ]
  },
  {
   "cell_type": "markdown",
   "metadata": {},
   "source": [
    "The model is unable to perform as well on the new pictures (20% vs ~95% on test set)."
   ]
  },
  {
   "cell_type": "code",
   "execution_count": 21,
   "metadata": {
    "collapsed": false
   },
   "outputs": [],
   "source": [
    "### Visualize the softmax probabilities here.\n",
    "### Feel free to use as many code cells as needed.\n",
    "\n",
    "preds = tf.nn.softmax(logits)\n",
    "\n",
    "softmaxes = None\n",
    "\n",
    "with tf.Session() as sess:\n",
    "    saver.restore(sess, tf.train.latest_checkpoint('.'))    \n",
    "    softmaxes = sess.run(preds, feed_dict={x: new_X, y: new_y, keep_prob: 1.0})    "
   ]
  },
  {
   "cell_type": "code",
   "execution_count": 22,
   "metadata": {
    "collapsed": true
   },
   "outputs": [],
   "source": [
    "def graph_softmax(softmax):\n",
    "    data = list(map(lambda x: max([x * 100, 0]), softmax))\n",
    "    plt.bar(np.arange(n_classes), data)    \n",
    "    \n",
    "    plt.xlabel('Sign Index')\n",
    "    plt.ylabel('Probability (%)')    \n",
    "    plt.ylim([0, 100])\n",
    "    \n",
    "    plt.show()"
   ]
  },
  {
   "cell_type": "code",
   "execution_count": 23,
   "metadata": {
    "collapsed": false
   },
   "outputs": [
    {
     "name": "stdout",
     "output_type": "stream",
     "text": [
      "./street-photos/IMG_1023.jpg\n"
     ]
    },
    {
     "data": {
      "image/png": "[encoded data removed]",
      "text/plain": [
       "<matplotlib.figure.Figure at 0x7fb606f648d0>"
      ]
     },
     "metadata": {},
     "output_type": "display_data"
    },
    {
     "name": "stdout",
     "output_type": "stream",
     "text": [
      "./street-photos/IMG_1021.jpg\n"
     ]
    },
    {
     "data": {
      "image/png": "[encoded data removed]",
      "text/plain": [
       "<matplotlib.figure.Figure at 0x7fb614f474a8>"
      ]
     },
     "metadata": {},
     "output_type": "display_data"
    },
    {
     "name": "stdout",
     "output_type": "stream",
     "text": [
      "./street-photos/IMG_1025.jpg\n"
     ]
    },
    {
     "data": {
      "image/png": "[encoded data removed]",
      "text/plain": [
       "<matplotlib.figure.Figure at 0x7fb614f74f98>"
      ]
     },
     "metadata": {},
     "output_type": "display_data"
    },
    {
     "name": "stdout",
     "output_type": "stream",
     "text": [
      "./street-photos/IMG_1022.jpg\n"
     ]
    },
    {
     "data": {
      "image/png": "[encoded data removed]",
      "text/plain": [
       "<matplotlib.figure.Figure at 0x7fb614f9a630>"
      ]
     },
     "metadata": {},
     "output_type": "display_data"
    },
    {
     "name": "stdout",
     "output_type": "stream",
     "text": [
      "./street-photos/IMG_1024.jpg\n"
     ]
    },
    {
     "data": {
      "image/png": "[encoded data removed]",
      "text/plain": [
       "<matplotlib.figure.Figure at 0x7fb614edb8d0>"
      ]
     },
     "metadata": {},
     "output_type": "display_data"
    }
   ],
   "source": [
    "for i, image_path in enumerate(image_paths):\n",
    "    print(image_path)    \n",
    "    softmax = softmaxes[i]\n",
    "    graph_softmax(softmax)"
   ]
  },
  {
   "cell_type": "markdown",
   "metadata": {},
   "source": [
    "### Question 8\n",
    "\n",
    "*Use the model's softmax probabilities to visualize the **certainty** of its predictions, [`tf.nn.top_k`](https://www.tensorflow.org/versions/r0.12/api_docs/python/nn.html#top_k) could prove helpful here. Which predictions is the model certain of? Uncertain? If the model was incorrect in its initial prediction, does the correct prediction appear in the top k? (k should be 5 at most)*\n",
    "\n",
    "`tf.nn.top_k` will return the values and indices (class ids) of the top k predictions. So if k=3, for each sign, it'll return the 3 largest probabilities (out of a possible 43) and the correspoding class ids.\n",
    "\n",
    "Take this numpy array as an example:\n",
    "\n",
    "```\n",
    "# (5, 6) array\n",
    "a = np.array([[ 0.24879643,  0.07032244,  0.12641572,  0.34763842,  0.07893497,\n",
    "         0.12789202],\n",
    "       [ 0.28086119,  0.27569815,  0.08594638,  0.0178669 ,  0.18063401,\n",
    "         0.15899337],\n",
    "       [ 0.26076848,  0.23664738,  0.08020603,  0.07001922,  0.1134371 ,\n",
    "         0.23892179],\n",
    "       [ 0.11943333,  0.29198961,  0.02605103,  0.26234032,  0.1351348 ,\n",
    "         0.16505091],\n",
    "       [ 0.09561176,  0.34396535,  0.0643941 ,  0.16240774,  0.24206137,\n",
    "         0.09155967]])\n",
    "```\n",
    "\n",
    "Running it through `sess.run(tf.nn.top_k(tf.constant(a), k=3))` produces:\n",
    "\n",
    "```\n",
    "TopKV2(values=array([[ 0.34763842,  0.24879643,  0.12789202],\n",
    "       [ 0.28086119,  0.27569815,  0.18063401],\n",
    "       [ 0.26076848,  0.23892179,  0.23664738],\n",
    "       [ 0.29198961,  0.26234032,  0.16505091],\n",
    "       [ 0.34396535,  0.24206137,  0.16240774]]), indices=array([[3, 0, 5],\n",
    "       [0, 1, 4],\n",
    "       [0, 5, 1],\n",
    "       [1, 3, 5],\n",
    "       [1, 4, 3]], dtype=int32))\n",
    "```\n",
    "\n",
    "Looking just at the first row we get `[ 0.34763842,  0.24879643,  0.12789202]`, you can confirm these are the 3 largest probabilities in `a`. You'll also notice `[3, 0, 5]` are the corresponding indices."
   ]
  },
  {
   "cell_type": "markdown",
   "metadata": {},
   "source": [
    "**Answer:**"
   ]
  },
  {
   "cell_type": "code",
   "execution_count": 24,
   "metadata": {
    "collapsed": true
   },
   "outputs": [],
   "source": [
    "from collections import Counter\n",
    "\n",
    "def top_ks(xs, k=5):\n",
    "    \"\"\"Get top K for any given Xs\"\"\"\n",
    "    softmax = tf.nn.softmax(logits)\n",
    "    top_k = tf.nn.top_k(softmax, k=k)\n",
    "    \n",
    "    with tf.Session() as sess:\n",
    "        saver.restore(sess, tf.train.latest_checkpoint('.'))    \n",
    "        top_k = sess.run(top_k, feed_dict={x: new_X, keep_prob: 1.0})\n",
    "        \n",
    "        return top_k\n",
    "    \n",
    "def top_k_stats(top_k):\n",
    "    \"\"\"Get top ks and their probabilities, given a TopKV2 object\"\"\"\n",
    "    indices = np.array(top_k.indices).flatten()\n",
    "    vals = np.array(top_k.values).flatten()\n",
    "    probs = {}\n",
    "    confidence = {}\n",
    "    \n",
    "    # Collect all probabilities\n",
    "    for i, idx in enumerate(indices):\n",
    "        if probs.get(idx) is None:\n",
    "            probs[idx] = []\n",
    "                    \n",
    "        probs[idx].append(vals[i])\n",
    "        \n",
    "    # Calculate mean confidence\n",
    "    for idx in indices:\n",
    "        confidence[idx] = np.mean(probs[idx])\n",
    "    \n",
    "    # Return sorted tuple of (class, confidence)\n",
    "    sorted_classes = sorted(confidence.items(),\n",
    "                            key=operator.itemgetter(1))\n",
    "    \n",
    "    return sorted_classes"
   ]
  },
  {
   "cell_type": "code",
   "execution_count": 25,
   "metadata": {
    "collapsed": false
   },
   "outputs": [
    {
     "name": "stdout",
     "output_type": "stream",
     "text": [
      "Top classes:\n",
      "\n",
      "- End of all speed and passing limits: 0.9879767298698425\n",
      "- Speed limit (30km/h): 0.48048534989356995\n",
      "- Right-of-way at the next intersection: 0.39049819111824036\n",
      "- Stop: 0.3365899622440338\n",
      "- Priority road: 0.21034128963947296\n",
      "\n",
      "Bottom classes:\n",
      "\n",
      "- Speed limit (20km/h): 0.00780445896089077\n",
      "- End of speed limit (80km/h): 0.0003675989282783121\n",
      "- No vehicles: 7.825050488463603e-06\n",
      "- Bicycles crossing: 6.506836143671535e-06\n"
     ]
    }
   ],
   "source": [
    "import operator \n",
    "\n",
    "top_k = top_ks(new_X)\n",
    "sorted_classes = top_k_stats(top_k)\n",
    "\n",
    "top_classes = sorted_classes[-5:]\n",
    "bot_classes = sorted_classes[0:4]\n",
    "\n",
    "print('Top classes:')\n",
    "print()\n",
    "\n",
    "for class_id, prob in top_classes[::-1]:\n",
    "    sign_name = sign_mapping[str(class_id)]\n",
    "    print('- {}: {}'.format(sign_name, prob))\n",
    "    \n",
    "print()    \n",
    "print('Bottom classes:')\n",
    "print()\n",
    "\n",
    "for class_id, prob in bot_classes[::-1]:\n",
    "    sign_name = sign_mapping[str(class_id)]\n",
    "    print('- {}: {}'.format(sign_name, prob))"
   ]
  },
  {
   "cell_type": "markdown",
   "metadata": {},
   "source": [
    "The model is most certain about the stop sign, and the speed limit (30k/m), both of which have a 90%+ confidence. Interestingly, the model got the stop sign right, but incorrectly predicted speed limit on a pedestrian sign.\n",
    "\n",
    "The only other sign the model showed reasonable confidence in (50%+) is the \"Dangerous curve to the right\" sign, which it also got wrong. It showed < 25% confidence in all the other signs. Given that its accuracy was only at 20% with these images, it seems these US traffic signs confused the classifier."
   ]
  },
  {
   "cell_type": "markdown",
   "metadata": {},
   "source": [
    "> **Note**: Once you have completed all of the code implementations and successfully answered each question above, you may finalize your work by exporting the iPython Notebook as an HTML document. You can do this by using the menu above and navigating to  \\n\",\n",
    "    \"**File -> Download as -> HTML (.html)**. Include the finished document along with this notebook as your submission."
   ]
  },
  {
   "cell_type": "code",
   "execution_count": null,
   "metadata": {
    "collapsed": true
   },
   "outputs": [],
   "source": []
  }
 ],
 "metadata": {
  "anaconda-cloud": {},
  "kernelspec": {
   "display_name": "Python 3",
   "language": "python",
   "name": "python3"
  },
  "language_info": {
   "codemirror_mode": {
    "name": "ipython",
    "version": 3
   },
   "file_extension": ".py",
   "mimetype": "text/x-python",
   "name": "python",
   "nbconvert_exporter": "python",
   "pygments_lexer": "ipython3",
   "version": "3.5.2"
  },
  "widgets": {
   "state": {},
   "version": "1.1.2"
  }
 },
 "nbformat": 4,
 "nbformat_minor": 1
}
